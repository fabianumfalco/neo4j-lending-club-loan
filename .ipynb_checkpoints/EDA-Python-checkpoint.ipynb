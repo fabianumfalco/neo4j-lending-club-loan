{
 "cells": [
  {
   "cell_type": "code",
   "execution_count": 1,
   "id": "41b0bdba",
   "metadata": {},
   "outputs": [
    {
     "name": "stdout",
     "output_type": "stream",
     "text": [
      "Versão da Linguagem Python Usada Neste Jupyter Notebook: 3.8.13\n"
     ]
    }
   ],
   "source": [
    "# Versão da Linguagem Python\n",
    "from platform import python_version\n",
    "print('Versão da Linguagem Python Usada Neste Jupyter Notebook:', python_version())"
   ]
  },
  {
   "cell_type": "code",
   "execution_count": 2,
   "id": "2cc7f6b4",
   "metadata": {},
   "outputs": [],
   "source": [
    "# Para atualizar um pacote, execute o comando abaixo no terminal ou prompt de comando:\n",
    "# pip install -U nome_pacote\n",
    "\n",
    "# Para instalar a versão exata de um pacote, execute o comando abaixo no terminal ou prompt de comando:\n",
    "# pip install nome_pacote==versão_desejada\n",
    "\n",
    "# Depois de instalar ou atualizar o pacote, reinicie o jupyter notebook."
   ]
  },
  {
   "cell_type": "code",
   "execution_count": 3,
   "id": "428640a7",
   "metadata": {},
   "outputs": [],
   "source": [
    "# Instala o pacote watermark.\n",
    "# Esse pacote é usado para gravar as versões de outros pacotes usados neste jupyter notebook.\n",
    "!pip install -q -U watermark"
   ]
  },
  {
   "cell_type": "code",
   "execution_count": 4,
   "id": "147c14d6",
   "metadata": {},
   "outputs": [],
   "source": [
    "# As novas versões dos pacotestrazem diversas mensagens de aviso ao desenvolvedor. Vamos desativar isso.\n",
    "import sys\n",
    "import warnings\n",
    "import re\n",
    "import os\n",
    "\n",
    "import pandas as pd\n",
    "import numpy as np\n",
    "import seaborn as sns\n",
    "\n",
    "import matplotlib.pyplot as plt\n",
    "%matplotlib inline \n",
    "\n",
    "if not sys.warnoptions:\n",
    "    warnings.simplefilter(\"ignore\")\n",
    "warnings.simplefilter(action='ignore', category=FutureWarning)\n",
    "warnings.filterwarnings(\"ignore\", category=FutureWarning)\n"
   ]
  },
  {
   "cell_type": "code",
   "execution_count": 5,
   "id": "78c83ef1",
   "metadata": {},
   "outputs": [
    {
     "name": "stdout",
     "output_type": "stream",
     "text": [
      "numpy     : 1.21.5\n",
      "pandas    : 1.4.2\n",
      "sys       : 3.8.13 (default, Mar 28 2022, 11:38:47) \n",
      "[GCC 7.5.0]\n",
      "matplotlib: 3.5.1\n",
      "re        : 2.2.1\n",
      "seaborn   : 0.11.2\n",
      "\n"
     ]
    }
   ],
   "source": [
    "# Versões dos pacotes usados neste jupyter notebook\n",
    "%reload_ext watermark\n",
    "%watermark --iversions"
   ]
  },
  {
   "cell_type": "code",
   "execution_count": 6,
   "id": "337f2f62",
   "metadata": {},
   "outputs": [],
   "source": [
    "arquivo_csv = 'data/Loan_status_2007-2020Q3_100_soft.csv'\n",
    "arq_df = pd.read_csv(arquivo_csv)"
   ]
  },
  {
   "cell_type": "code",
   "execution_count": 7,
   "id": "86a8d01f",
   "metadata": {},
   "outputs": [
    {
     "data": {
      "text/plain": [
       "(100, 7)"
      ]
     },
     "execution_count": 7,
     "metadata": {},
     "output_type": "execute_result"
    }
   ],
   "source": [
    "arq_df.shape"
   ]
  },
  {
   "cell_type": "code",
   "execution_count": 8,
   "id": "f39010ef",
   "metadata": {},
   "outputs": [
    {
     "name": "stdout",
     "output_type": "stream",
     "text": [
      "<class 'pandas.core.frame.DataFrame'>\n",
      "RangeIndex: 100 entries, 0 to 99\n",
      "Data columns (total 7 columns):\n",
      " #   Column               Non-Null Count  Dtype  \n",
      "---  ------               --------------  -----  \n",
      " 0   borrower_id          100 non-null    object \n",
      " 1   addr_state           100 non-null    object \n",
      " 2   annual_inc           100 non-null    float64\n",
      " 3   emp_length           100 non-null    object \n",
      " 4   home_ownership       100 non-null    object \n",
      " 5   verification_status  100 non-null    object \n",
      " 6   loan_status          100 non-null    object \n",
      "dtypes: float64(1), object(6)\n",
      "memory usage: 5.6+ KB\n"
     ]
    }
   ],
   "source": [
    "arq_df.info()"
   ]
  },
  {
   "cell_type": "code",
   "execution_count": 19,
   "id": "677a7992",
   "metadata": {},
   "outputs": [
    {
     "data": {
      "text/plain": [
       "60"
      ]
     },
     "execution_count": 19,
     "metadata": {},
     "output_type": "execute_result"
    }
   ],
   "source": [
    "#pd.options.display.max_rows\n",
    "#pd.options.display.max_rows = 1000"
   ]
  },
  {
   "cell_type": "code",
   "execution_count": 20,
   "id": "b3c48f61",
   "metadata": {},
   "outputs": [
    {
     "data": {
      "text/html": [
       "<div>\n",
       "<style scoped>\n",
       "    .dataframe tbody tr th:only-of-type {\n",
       "        vertical-align: middle;\n",
       "    }\n",
       "\n",
       "    .dataframe tbody tr th {\n",
       "        vertical-align: top;\n",
       "    }\n",
       "\n",
       "    .dataframe thead th {\n",
       "        text-align: right;\n",
       "    }\n",
       "</style>\n",
       "<table border=\"1\" class=\"dataframe\">\n",
       "  <thead>\n",
       "    <tr style=\"text-align: right;\">\n",
       "      <th></th>\n",
       "      <th>borrower_id</th>\n",
       "      <th>addr_state</th>\n",
       "      <th>annual_inc</th>\n",
       "      <th>emp_length</th>\n",
       "      <th>home_ownership</th>\n",
       "      <th>verification_status</th>\n",
       "      <th>loan_status</th>\n",
       "    </tr>\n",
       "  </thead>\n",
       "  <tbody>\n",
       "    <tr>\n",
       "      <th>0</th>\n",
       "      <td>borrower-1</td>\n",
       "      <td>AZ</td>\n",
       "      <td>24000.0</td>\n",
       "      <td>10+ years</td>\n",
       "      <td>RENT</td>\n",
       "      <td>Verified</td>\n",
       "      <td>Fully Paid</td>\n",
       "    </tr>\n",
       "    <tr>\n",
       "      <th>1</th>\n",
       "      <td>borrower-2</td>\n",
       "      <td>GA</td>\n",
       "      <td>30000.0</td>\n",
       "      <td>&lt; 1 year</td>\n",
       "      <td>RENT</td>\n",
       "      <td>Source Verified</td>\n",
       "      <td>Charged Off</td>\n",
       "    </tr>\n",
       "    <tr>\n",
       "      <th>2</th>\n",
       "      <td>borrower-3</td>\n",
       "      <td>IL</td>\n",
       "      <td>12252.0</td>\n",
       "      <td>10+ years</td>\n",
       "      <td>RENT</td>\n",
       "      <td>Not Verified</td>\n",
       "      <td>Fully Paid</td>\n",
       "    </tr>\n",
       "    <tr>\n",
       "      <th>3</th>\n",
       "      <td>borrower-4</td>\n",
       "      <td>CA</td>\n",
       "      <td>49200.0</td>\n",
       "      <td>10+ years</td>\n",
       "      <td>RENT</td>\n",
       "      <td>Source Verified</td>\n",
       "      <td>Fully Paid</td>\n",
       "    </tr>\n",
       "    <tr>\n",
       "      <th>4</th>\n",
       "      <td>borrower-5</td>\n",
       "      <td>OR</td>\n",
       "      <td>80000.0</td>\n",
       "      <td>1 year</td>\n",
       "      <td>RENT</td>\n",
       "      <td>Source Verified</td>\n",
       "      <td>Fully Paid</td>\n",
       "    </tr>\n",
       "    <tr>\n",
       "      <th>5</th>\n",
       "      <td>borrower-6</td>\n",
       "      <td>AZ</td>\n",
       "      <td>36000.0</td>\n",
       "      <td>3 years</td>\n",
       "      <td>RENT</td>\n",
       "      <td>Source Verified</td>\n",
       "      <td>Fully Paid</td>\n",
       "    </tr>\n",
       "    <tr>\n",
       "      <th>6</th>\n",
       "      <td>borrower-7</td>\n",
       "      <td>NC</td>\n",
       "      <td>47004.0</td>\n",
       "      <td>8 years</td>\n",
       "      <td>RENT</td>\n",
       "      <td>Not Verified</td>\n",
       "      <td>Fully Paid</td>\n",
       "    </tr>\n",
       "    <tr>\n",
       "      <th>7</th>\n",
       "      <td>borrower-8</td>\n",
       "      <td>CA</td>\n",
       "      <td>48000.0</td>\n",
       "      <td>9 years</td>\n",
       "      <td>RENT</td>\n",
       "      <td>Source Verified</td>\n",
       "      <td>Fully Paid</td>\n",
       "    </tr>\n",
       "    <tr>\n",
       "      <th>8</th>\n",
       "      <td>borrower-9</td>\n",
       "      <td>CA</td>\n",
       "      <td>40000.0</td>\n",
       "      <td>4 years</td>\n",
       "      <td>OWN</td>\n",
       "      <td>Source Verified</td>\n",
       "      <td>Charged Off</td>\n",
       "    </tr>\n",
       "    <tr>\n",
       "      <th>9</th>\n",
       "      <td>borrower-10</td>\n",
       "      <td>TX</td>\n",
       "      <td>15000.0</td>\n",
       "      <td>&lt; 1 year</td>\n",
       "      <td>RENT</td>\n",
       "      <td>Verified</td>\n",
       "      <td>Charged Off</td>\n",
       "    </tr>\n",
       "  </tbody>\n",
       "</table>\n",
       "</div>"
      ],
      "text/plain": [
       "   borrower_id addr_state  annual_inc emp_length home_ownership  \\\n",
       "0   borrower-1         AZ     24000.0  10+ years           RENT   \n",
       "1   borrower-2         GA     30000.0   < 1 year           RENT   \n",
       "2   borrower-3         IL     12252.0  10+ years           RENT   \n",
       "3   borrower-4         CA     49200.0  10+ years           RENT   \n",
       "4   borrower-5         OR     80000.0     1 year           RENT   \n",
       "5   borrower-6         AZ     36000.0    3 years           RENT   \n",
       "6   borrower-7         NC     47004.0    8 years           RENT   \n",
       "7   borrower-8         CA     48000.0    9 years           RENT   \n",
       "8   borrower-9         CA     40000.0    4 years            OWN   \n",
       "9  borrower-10         TX     15000.0   < 1 year           RENT   \n",
       "\n",
       "  verification_status  loan_status  \n",
       "0            Verified   Fully Paid  \n",
       "1     Source Verified  Charged Off  \n",
       "2        Not Verified   Fully Paid  \n",
       "3     Source Verified   Fully Paid  \n",
       "4     Source Verified   Fully Paid  \n",
       "5     Source Verified   Fully Paid  \n",
       "6        Not Verified   Fully Paid  \n",
       "7     Source Verified   Fully Paid  \n",
       "8     Source Verified  Charged Off  \n",
       "9            Verified  Charged Off  "
      ]
     },
     "execution_count": 20,
     "metadata": {},
     "output_type": "execute_result"
    }
   ],
   "source": [
    "#arq_df.head().T\n",
    "arq_df.head(10)"
   ]
  },
  {
   "cell_type": "code",
   "execution_count": 21,
   "id": "f08a37ab",
   "metadata": {},
   "outputs": [
    {
     "data": {
      "text/html": [
       "<div>\n",
       "<style scoped>\n",
       "    .dataframe tbody tr th:only-of-type {\n",
       "        vertical-align: middle;\n",
       "    }\n",
       "\n",
       "    .dataframe tbody tr th {\n",
       "        vertical-align: top;\n",
       "    }\n",
       "\n",
       "    .dataframe thead th {\n",
       "        text-align: right;\n",
       "    }\n",
       "</style>\n",
       "<table border=\"1\" class=\"dataframe\">\n",
       "  <thead>\n",
       "    <tr style=\"text-align: right;\">\n",
       "      <th></th>\n",
       "      <th>borrower_id</th>\n",
       "      <th>addr_state</th>\n",
       "      <th>annual_inc</th>\n",
       "      <th>emp_length</th>\n",
       "      <th>home_ownership</th>\n",
       "      <th>verification_status</th>\n",
       "      <th>loan_status</th>\n",
       "    </tr>\n",
       "  </thead>\n",
       "  <tbody>\n",
       "    <tr>\n",
       "      <th>90</th>\n",
       "      <td>borrower-91</td>\n",
       "      <td>TX</td>\n",
       "      <td>62000.0</td>\n",
       "      <td>&lt; 1 year</td>\n",
       "      <td>RENT</td>\n",
       "      <td>Verified</td>\n",
       "      <td>Fully Paid</td>\n",
       "    </tr>\n",
       "    <tr>\n",
       "      <th>91</th>\n",
       "      <td>borrower-92</td>\n",
       "      <td>MN</td>\n",
       "      <td>43680.0</td>\n",
       "      <td>3 years</td>\n",
       "      <td>MORTGAGE</td>\n",
       "      <td>Not Verified</td>\n",
       "      <td>Fully Paid</td>\n",
       "    </tr>\n",
       "    <tr>\n",
       "      <th>92</th>\n",
       "      <td>borrower-93</td>\n",
       "      <td>NY</td>\n",
       "      <td>120000.0</td>\n",
       "      <td>3 years</td>\n",
       "      <td>RENT</td>\n",
       "      <td>Source Verified</td>\n",
       "      <td>Fully Paid</td>\n",
       "    </tr>\n",
       "    <tr>\n",
       "      <th>93</th>\n",
       "      <td>borrower-94</td>\n",
       "      <td>CA</td>\n",
       "      <td>66000.0</td>\n",
       "      <td>10+ years</td>\n",
       "      <td>RENT</td>\n",
       "      <td>Verified</td>\n",
       "      <td>Fully Paid</td>\n",
       "    </tr>\n",
       "    <tr>\n",
       "      <th>94</th>\n",
       "      <td>borrower-95</td>\n",
       "      <td>FL</td>\n",
       "      <td>39120.0</td>\n",
       "      <td>4 years</td>\n",
       "      <td>OWN</td>\n",
       "      <td>Not Verified</td>\n",
       "      <td>Fully Paid</td>\n",
       "    </tr>\n",
       "    <tr>\n",
       "      <th>95</th>\n",
       "      <td>borrower-96</td>\n",
       "      <td>VA</td>\n",
       "      <td>85000.0</td>\n",
       "      <td>6 years</td>\n",
       "      <td>RENT</td>\n",
       "      <td>Verified</td>\n",
       "      <td>Fully Paid</td>\n",
       "    </tr>\n",
       "    <tr>\n",
       "      <th>96</th>\n",
       "      <td>borrower-97</td>\n",
       "      <td>VA</td>\n",
       "      <td>47800.0</td>\n",
       "      <td>4 years</td>\n",
       "      <td>MORTGAGE</td>\n",
       "      <td>Verified</td>\n",
       "      <td>Fully Paid</td>\n",
       "    </tr>\n",
       "    <tr>\n",
       "      <th>97</th>\n",
       "      <td>borrower-98</td>\n",
       "      <td>WA</td>\n",
       "      <td>45000.0</td>\n",
       "      <td>7 years</td>\n",
       "      <td>MORTGAGE</td>\n",
       "      <td>Not Verified</td>\n",
       "      <td>Charged Off</td>\n",
       "    </tr>\n",
       "    <tr>\n",
       "      <th>98</th>\n",
       "      <td>borrower-99</td>\n",
       "      <td>IL</td>\n",
       "      <td>83000.0</td>\n",
       "      <td>10+ years</td>\n",
       "      <td>MORTGAGE</td>\n",
       "      <td>Verified</td>\n",
       "      <td>Fully Paid</td>\n",
       "    </tr>\n",
       "    <tr>\n",
       "      <th>99</th>\n",
       "      <td>borrower-100</td>\n",
       "      <td>CO</td>\n",
       "      <td>81000.0</td>\n",
       "      <td>&lt; 1 year</td>\n",
       "      <td>RENT</td>\n",
       "      <td>Source Verified</td>\n",
       "      <td>Fully Paid</td>\n",
       "    </tr>\n",
       "  </tbody>\n",
       "</table>\n",
       "</div>"
      ],
      "text/plain": [
       "     borrower_id addr_state  annual_inc emp_length home_ownership  \\\n",
       "90   borrower-91         TX     62000.0   < 1 year           RENT   \n",
       "91   borrower-92         MN     43680.0    3 years       MORTGAGE   \n",
       "92   borrower-93         NY    120000.0    3 years           RENT   \n",
       "93   borrower-94         CA     66000.0  10+ years           RENT   \n",
       "94   borrower-95         FL     39120.0    4 years            OWN   \n",
       "95   borrower-96         VA     85000.0    6 years           RENT   \n",
       "96   borrower-97         VA     47800.0    4 years       MORTGAGE   \n",
       "97   borrower-98         WA     45000.0    7 years       MORTGAGE   \n",
       "98   borrower-99         IL     83000.0  10+ years       MORTGAGE   \n",
       "99  borrower-100         CO     81000.0   < 1 year           RENT   \n",
       "\n",
       "   verification_status  loan_status  \n",
       "90            Verified   Fully Paid  \n",
       "91        Not Verified   Fully Paid  \n",
       "92     Source Verified   Fully Paid  \n",
       "93            Verified   Fully Paid  \n",
       "94        Not Verified   Fully Paid  \n",
       "95            Verified   Fully Paid  \n",
       "96            Verified   Fully Paid  \n",
       "97        Not Verified  Charged Off  \n",
       "98            Verified   Fully Paid  \n",
       "99     Source Verified   Fully Paid  "
      ]
     },
     "execution_count": 21,
     "metadata": {},
     "output_type": "execute_result"
    }
   ],
   "source": [
    "#arq_df.tail().T\n",
    "arq_df.tail(10)"
   ]
  },
  {
   "cell_type": "code",
   "execution_count": 11,
   "id": "d84ce323",
   "metadata": {},
   "outputs": [
    {
     "data": {
      "text/html": [
       "<div>\n",
       "<style scoped>\n",
       "    .dataframe tbody tr th:only-of-type {\n",
       "        vertical-align: middle;\n",
       "    }\n",
       "\n",
       "    .dataframe tbody tr th {\n",
       "        vertical-align: top;\n",
       "    }\n",
       "\n",
       "    .dataframe thead th {\n",
       "        text-align: right;\n",
       "    }\n",
       "</style>\n",
       "<table border=\"1\" class=\"dataframe\">\n",
       "  <thead>\n",
       "    <tr style=\"text-align: right;\">\n",
       "      <th></th>\n",
       "      <th>count</th>\n",
       "      <th>mean</th>\n",
       "      <th>std</th>\n",
       "      <th>min</th>\n",
       "      <th>25%</th>\n",
       "      <th>50%</th>\n",
       "      <th>75%</th>\n",
       "      <th>max</th>\n",
       "    </tr>\n",
       "  </thead>\n",
       "  <tbody>\n",
       "    <tr>\n",
       "      <th>annual_inc</th>\n",
       "      <td>100.0</td>\n",
       "      <td>57573.4419</td>\n",
       "      <td>26999.818922</td>\n",
       "      <td>12252.0</td>\n",
       "      <td>40000.0</td>\n",
       "      <td>50000.0</td>\n",
       "      <td>75000.0</td>\n",
       "      <td>150000.0</td>\n",
       "    </tr>\n",
       "  </tbody>\n",
       "</table>\n",
       "</div>"
      ],
      "text/plain": [
       "            count        mean           std      min      25%      50%  \\\n",
       "annual_inc  100.0  57573.4419  26999.818922  12252.0  40000.0  50000.0   \n",
       "\n",
       "                75%       max  \n",
       "annual_inc  75000.0  150000.0  "
      ]
     },
     "execution_count": 11,
     "metadata": {},
     "output_type": "execute_result"
    }
   ],
   "source": [
    "arq_df.describe().T"
   ]
  },
  {
   "cell_type": "code",
   "execution_count": 12,
   "id": "8e464631",
   "metadata": {},
   "outputs": [
    {
     "data": {
      "text/plain": [
       "array(['Fully Paid', 'Charged Off'], dtype=object)"
      ]
     },
     "execution_count": 12,
     "metadata": {},
     "output_type": "execute_result"
    }
   ],
   "source": [
    "arq_df['loan_status'].unique()"
   ]
  },
  {
   "cell_type": "code",
   "execution_count": 24,
   "id": "053b01b4",
   "metadata": {},
   "outputs": [
    {
     "data": {
      "text/html": [
       "<div>\n",
       "<style scoped>\n",
       "    .dataframe tbody tr th:only-of-type {\n",
       "        vertical-align: middle;\n",
       "    }\n",
       "\n",
       "    .dataframe tbody tr th {\n",
       "        vertical-align: top;\n",
       "    }\n",
       "\n",
       "    .dataframe thead th {\n",
       "        text-align: right;\n",
       "    }\n",
       "</style>\n",
       "<table border=\"1\" class=\"dataframe\">\n",
       "  <thead>\n",
       "    <tr style=\"text-align: right;\">\n",
       "      <th></th>\n",
       "      <th>count</th>\n",
       "      <th>mean</th>\n",
       "      <th>std</th>\n",
       "      <th>min</th>\n",
       "      <th>25%</th>\n",
       "      <th>50%</th>\n",
       "      <th>75%</th>\n",
       "      <th>max</th>\n",
       "    </tr>\n",
       "  </thead>\n",
       "  <tbody>\n",
       "    <tr>\n",
       "      <th>annual_inc</th>\n",
       "      <td>18.0</td>\n",
       "      <td>58722.222222</td>\n",
       "      <td>26731.390606</td>\n",
       "      <td>15000.0</td>\n",
       "      <td>41250.0</td>\n",
       "      <td>50002.0</td>\n",
       "      <td>75750.0</td>\n",
       "      <td>105000.0</td>\n",
       "    </tr>\n",
       "  </tbody>\n",
       "</table>\n",
       "</div>"
      ],
      "text/plain": [
       "            count          mean           std      min      25%      50%  \\\n",
       "annual_inc   18.0  58722.222222  26731.390606  15000.0  41250.0  50002.0   \n",
       "\n",
       "                75%       max  \n",
       "annual_inc  75750.0  105000.0  "
      ]
     },
     "execution_count": 24,
     "metadata": {},
     "output_type": "execute_result"
    }
   ],
   "source": [
    "arq_df[arq_df['loan_status'] == 'Charged Off'].describe().T"
   ]
  },
  {
   "cell_type": "code",
   "execution_count": 14,
   "id": "c086f9e0",
   "metadata": {},
   "outputs": [
    {
     "data": {
      "text/html": [
       "<div>\n",
       "<style scoped>\n",
       "    .dataframe tbody tr th:only-of-type {\n",
       "        vertical-align: middle;\n",
       "    }\n",
       "\n",
       "    .dataframe tbody tr th {\n",
       "        vertical-align: top;\n",
       "    }\n",
       "\n",
       "    .dataframe thead th {\n",
       "        text-align: right;\n",
       "    }\n",
       "</style>\n",
       "<table border=\"1\" class=\"dataframe\">\n",
       "  <thead>\n",
       "    <tr style=\"text-align: right;\">\n",
       "      <th></th>\n",
       "      <th>count</th>\n",
       "      <th>mean</th>\n",
       "      <th>std</th>\n",
       "      <th>min</th>\n",
       "      <th>25%</th>\n",
       "      <th>50%</th>\n",
       "      <th>75%</th>\n",
       "      <th>max</th>\n",
       "    </tr>\n",
       "  </thead>\n",
       "  <tbody>\n",
       "    <tr>\n",
       "      <th>annual_inc</th>\n",
       "      <td>82.0</td>\n",
       "      <td>57321.27061</td>\n",
       "      <td>27215.060254</td>\n",
       "      <td>12252.0</td>\n",
       "      <td>40000.0</td>\n",
       "      <td>50000.0</td>\n",
       "      <td>72000.0</td>\n",
       "      <td>150000.0</td>\n",
       "    </tr>\n",
       "  </tbody>\n",
       "</table>\n",
       "</div>"
      ],
      "text/plain": [
       "            count         mean           std      min      25%      50%  \\\n",
       "annual_inc   82.0  57321.27061  27215.060254  12252.0  40000.0  50000.0   \n",
       "\n",
       "                75%       max  \n",
       "annual_inc  72000.0  150000.0  "
      ]
     },
     "execution_count": 14,
     "metadata": {},
     "output_type": "execute_result"
    }
   ],
   "source": [
    "arq_df[arq_df['loan_status'] == 'Fully Paid'].describe().T"
   ]
  },
  {
   "cell_type": "code",
   "execution_count": 15,
   "id": "4545a784",
   "metadata": {},
   "outputs": [],
   "source": [
    "#plt.xkcd()"
   ]
  },
  {
   "cell_type": "code",
   "execution_count": 16,
   "id": "9f30e0fa",
   "metadata": {},
   "outputs": [
    {
     "data": {
      "image/png": "[encoded data removed]",
      "text/plain": [
       "<Figure size 432x288 with 1 Axes>"
      ]
     },
     "metadata": {
      "needs_background": "light"
     },
     "output_type": "display_data"
    }
   ],
   "source": [
    "f = sns.distplot(arq_df['annual_inc'])"
   ]
  },
  {
   "cell_type": "code",
   "execution_count": null,
   "id": "3dbae7ca",
   "metadata": {},
   "outputs": [],
   "source": []
  }
 ],
 "metadata": {
  "kernelspec": {
   "display_name": "Python 3 (ipykernel)",
   "language": "python",
   "name": "python3"
  },
  "language_info": {
   "codemirror_mode": {
    "name": "ipython",
    "version": 3
   },
   "file_extension": ".py",
   "mimetype": "text/x-python",
   "name": "python",
   "nbconvert_exporter": "python",
   "pygments_lexer": "ipython3",
   "version": "3.8.13"
  }
 },
 "nbformat": 4,
 "nbformat_minor": 5
}
